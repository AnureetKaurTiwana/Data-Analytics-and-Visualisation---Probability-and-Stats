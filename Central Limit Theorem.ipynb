{
 "cells": [
  {
   "cell_type": "markdown",
   "id": "baec5880",
   "metadata": {},
   "source": [
    "## Summary\n",
    "1. If the population parameters are given then the estimation of the point on the graph can be done\n",
    "2. But in practicle situation the parameters are not actual values but the estimated values calculated from the sample data\n",
    "3. Central Limit theorem is used to estimate these parameters( mean and standard deviation)\n"
   ]
  },
  {
   "cell_type": "code",
   "execution_count": 3,
   "id": "70fa1bc4",
   "metadata": {},
   "outputs": [],
   "source": [
    "import pandas as pd\n",
    "import numpy as np\n",
    "import matplotlib.pyplot as plt\n",
    "import seaborn as sns\n",
    "from scipy.stats import norm"
   ]
  },
  {
   "cell_type": "code",
   "execution_count": 4,
   "id": "bb11d8f9",
   "metadata": {},
   "outputs": [
    {
     "data": {
      "text/html": [
       "<div>\n",
       "<style scoped>\n",
       "    .dataframe tbody tr th:only-of-type {\n",
       "        vertical-align: middle;\n",
       "    }\n",
       "\n",
       "    .dataframe tbody tr th {\n",
       "        vertical-align: top;\n",
       "    }\n",
       "\n",
       "    .dataframe thead th {\n",
       "        text-align: right;\n",
       "    }\n",
       "</style>\n",
       "<table border=\"1\" class=\"dataframe\">\n",
       "  <thead>\n",
       "    <tr style=\"text-align: right;\">\n",
       "      <th></th>\n",
       "      <th>Gender</th>\n",
       "      <th>Height</th>\n",
       "      <th>Weight</th>\n",
       "    </tr>\n",
       "  </thead>\n",
       "  <tbody>\n",
       "    <tr>\n",
       "      <th>0</th>\n",
       "      <td>Male</td>\n",
       "      <td>73.847017</td>\n",
       "      <td>241.893563</td>\n",
       "    </tr>\n",
       "    <tr>\n",
       "      <th>1</th>\n",
       "      <td>Male</td>\n",
       "      <td>68.781904</td>\n",
       "      <td>162.310473</td>\n",
       "    </tr>\n",
       "    <tr>\n",
       "      <th>2</th>\n",
       "      <td>Male</td>\n",
       "      <td>74.110105</td>\n",
       "      <td>212.740856</td>\n",
       "    </tr>\n",
       "    <tr>\n",
       "      <th>3</th>\n",
       "      <td>Male</td>\n",
       "      <td>71.730978</td>\n",
       "      <td>220.042470</td>\n",
       "    </tr>\n",
       "    <tr>\n",
       "      <th>4</th>\n",
       "      <td>Male</td>\n",
       "      <td>69.881796</td>\n",
       "      <td>206.349801</td>\n",
       "    </tr>\n",
       "  </tbody>\n",
       "</table>\n",
       "</div>"
      ],
      "text/plain": [
       "  Gender     Height      Weight\n",
       "0   Male  73.847017  241.893563\n",
       "1   Male  68.781904  162.310473\n",
       "2   Male  74.110105  212.740856\n",
       "3   Male  71.730978  220.042470\n",
       "4   Male  69.881796  206.349801"
      ]
     },
     "execution_count": 4,
     "metadata": {},
     "output_type": "execute_result"
    }
   ],
   "source": [
    "df=pd.read_csv(r\"C:\\Users\\Tnluser\\Desktop\\Python_Libraries\\weight-height.csv\")\n",
    "df.head()"
   ]
  },
  {
   "cell_type": "code",
   "execution_count": 5,
   "id": "85607e27",
   "metadata": {},
   "outputs": [
    {
     "data": {
      "text/plain": [
       "0    73.847017\n",
       "1    68.781904\n",
       "2    74.110105\n",
       "3    71.730978\n",
       "4    69.881796\n",
       "Name: Height, dtype: float64"
      ]
     },
     "execution_count": 5,
     "metadata": {},
     "output_type": "execute_result"
    }
   ],
   "source": [
    "df_height=df.Height\n",
    "df_height.head()"
   ]
  },
  {
   "cell_type": "code",
   "execution_count": 8,
   "id": "928af704",
   "metadata": {},
   "outputs": [
    {
     "data": {
      "text/plain": [
       "Text(0.5, 1.0, 'mean=66.37, Standar deviation=3.85')"
      ]
     },
     "execution_count": 8,
     "metadata": {},
     "output_type": "execute_result"
    },
    {
     "data": {
      "image/png": "[encoded data removed]",
      "text/plain": [
       "<Figure size 432x288 with 1 Axes>"
      ]
     },
     "metadata": {
      "needs_background": "light"
     },
     "output_type": "display_data"
    }
   ],
   "source": [
    "sns.histplot(df_height,kde=True)\n",
    "mean=np.round(df_height.mean(),2)\n",
    "sigma=np.round(df_height.std(),2)\n",
    "plt.title(f\"mean={mean}, Standar deviation={sigma}\")"
   ]
  },
  {
   "cell_type": "code",
   "execution_count": 12,
   "id": "62a376e6",
   "metadata": {},
   "outputs": [
    {
     "data": {
      "text/plain": [
       "7210    63.109528\n",
       "1015    67.675989\n",
       "5606    63.238525\n",
       "8349    61.894703\n",
       "3112    64.991405\n",
       "Name: Height, dtype: float64"
      ]
     },
     "execution_count": 12,
     "metadata": {},
     "output_type": "execute_result"
    }
   ],
   "source": [
    "# take sample from the data given, 5 samples are taken in the following commands\n",
    "df_height.sample(5)"
   ]
  },
  {
   "cell_type": "code",
   "execution_count": 16,
   "id": "25acf9d9",
   "metadata": {},
   "outputs": [
    {
     "data": {
      "text/plain": [
       "[66.89, 67.53, 70.89, 65.65, 66.4]"
      ]
     },
     "execution_count": 16,
     "metadata": {},
     "output_type": "execute_result"
    }
   ],
   "source": [
    "# each value is mean of random 5 values and these are close to the actual means\n",
    "sample_mean=[np.round(np.mean(df_height.sample(5)),2) for i in range(20000)]\n",
    "sample_mean[:5] "
   ]
  },
  {
   "cell_type": "code",
   "execution_count": 17,
   "id": "9f416bd0",
   "metadata": {},
   "outputs": [
    {
     "data": {
      "text/plain": [
       "66.353296"
      ]
     },
     "execution_count": 17,
     "metadata": {},
     "output_type": "execute_result"
    }
   ],
   "source": [
    "mean_sample=np.mean(sample_mean)\n",
    "mean_sample"
   ]
  },
  {
   "cell_type": "code",
   "execution_count": 18,
   "id": "861bfe63",
   "metadata": {},
   "outputs": [],
   "source": [
    "std_sample=np.std(sample_mean)"
   ]
  },
  {
   "cell_type": "markdown",
   "id": "4fa5de9c",
   "metadata": {},
   "source": [
    "Note: Here the Standard deviation of this sample spread is very less and the extremes are low, as expected this is mean values data \n",
    "    hence the spread is very less"
   ]
  },
  {
   "cell_type": "code",
   "execution_count": 24,
   "id": "1a1eea28",
   "metadata": {},
   "outputs": [
    {
     "data": {
      "text/plain": [
       "Text(0.5, 1.0, 'mean66.37, std deviation=1.71')"
      ]
     },
     "execution_count": 24,
     "metadata": {},
     "output_type": "execute_result"
    },
    {
     "data": {
      "image/png": "[encoded data removed]",
      "text/plain": [
       "<Figure size 432x288 with 1 Axes>"
      ]
     },
     "metadata": {
      "needs_background": "light"
     },
     "output_type": "display_data"
    }
   ],
   "source": [
    "sns.histplot(sample_mean,kde=True)\n",
    "\n",
    "plt.title(f\"mean{np.round(mean,2)}, std deviation={np.round(std_sample,2)}\")"
   ]
  },
  {
   "cell_type": "markdown",
   "id": "09e88cfd",
   "metadata": {},
   "source": [
    "## Question\n",
    "Ecommerce Data:\n",
    "Expediture on the website\n",
    "mean=80$\n",
    "\n",
    "SD=15$\n",
    "\n",
    "They want to conduct experiment on 50 customers to find the probability such that average spend is less than 75$\n",
    "\n",
    "sample space of mean values~ N( mean, SD/sqrt(n))\n",
    "n is the number of sample data points"
   ]
  },
  {
   "cell_type": "code",
   "execution_count": 32,
   "id": "da1025c2",
   "metadata": {},
   "outputs": [],
   "source": [
    "\n",
    "import math\n",
    "sd_sample=15/math.sqrt(50)"
   ]
  },
  {
   "cell_type": "code",
   "execution_count": 33,
   "id": "347006a7",
   "metadata": {},
   "outputs": [
    {
     "data": {
      "text/plain": [
       "2.1213203435596424"
      ]
     },
     "execution_count": 33,
     "metadata": {},
     "output_type": "execute_result"
    }
   ],
   "source": [
    "\n",
    "sd_sample"
   ]
  },
  {
   "cell_type": "code",
   "execution_count": 34,
   "id": "53f81e1a",
   "metadata": {},
   "outputs": [
    {
     "data": {
      "text/plain": [
       "-2.3570226039551585"
      ]
     },
     "execution_count": 34,
     "metadata": {},
     "output_type": "execute_result"
    }
   ],
   "source": [
    "z_score=(75-80)/sd_sample\n",
    "z_score"
   ]
  },
  {
   "cell_type": "code",
   "execution_count": 35,
   "id": "583740e1",
   "metadata": {},
   "outputs": [
    {
     "data": {
      "text/plain": [
       "0.009211062727049501"
      ]
     },
     "execution_count": 35,
     "metadata": {},
     "output_type": "execute_result"
    }
   ],
   "source": [
    "norm.cdf(z_score)"
   ]
  },
  {
   "cell_type": "code",
   "execution_count": 30,
   "id": "d07a5f13",
   "metadata": {},
   "outputs": [
    {
     "data": {
      "text/plain": [
       "0.8849303297782918"
      ]
     },
     "execution_count": 30,
     "metadata": {},
     "output_type": "execute_result"
    }
   ],
   "source": [
    "norm.cdf(1.2)"
   ]
  },
  {
   "cell_type": "code",
   "execution_count": null,
   "id": "d9704a3e",
   "metadata": {},
   "outputs": [],
   "source": []
  }
 ],
 "metadata": {
  "kernelspec": {
   "display_name": "Python 3 (ipykernel)",
   "language": "python",
   "name": "python3"
  },
  "language_info": {
   "codemirror_mode": {
    "name": "ipython",
    "version": 3
   },
   "file_extension": ".py",
   "mimetype": "text/x-python",
   "name": "python",
   "nbconvert_exporter": "python",
   "pygments_lexer": "ipython3",
   "version": "3.9.12"
  }
 },
 "nbformat": 4,
 "nbformat_minor": 5
}
