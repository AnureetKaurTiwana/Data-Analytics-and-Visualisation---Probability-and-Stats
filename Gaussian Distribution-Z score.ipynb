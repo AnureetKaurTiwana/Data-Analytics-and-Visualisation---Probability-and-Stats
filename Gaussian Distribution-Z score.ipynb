{
 "cells": [
  {
   "cell_type": "markdown",
   "id": "114b1036",
   "metadata": {},
   "source": [
    "## Summary\n",
    "1. stats package is used to find the zscore and area under the gaussian curve/ normal distribution curve 2. stats package is in scipy module \n",
    "3. zscore=(x-mu)/sigma\n",
    "   where mu is mean and sigma is standard     distribution\n",
    "4. cdf\n",
    "5. 1*sigma, 2*sigma, 3*sigma rule\n",
    "    i.e 69%, 95%, 99.7%\n",
    "   \n",
    "   a) 1* sigma rule  >> 68 percent of data is within range mu+- sigma\n",
    "   \n",
    "   b) 2* sigma rule >> 95 % of data is within range mu +-2*sigma\n",
    "   \n",
    "   c) 3* sigma rule >> 99.7 % of data is within range mu +- 3*sigma\n",
    "6. norm.cdf(z_score) o/p is area covered by graph/probability of values less than the z_score #cumulative distribution fn\n",
    "7. norm.ppf(percentage) #ppf (percentage point function) takes input as fraction of the curve or area under the normal distribution curve  and the output is z score which can be used to find the x value\n",
    "   "
   ]
  },
  {
   "cell_type": "code",
   "execution_count": 6,
   "id": "40aaf814",
   "metadata": {},
   "outputs": [],
   "source": [
    "from scipy.stats import norm\n",
    "\n",
    "import matplotlib.pyplot as plt\n",
    "import seaborn as sns\n",
    "import pandas as pd\n",
    "import numpy as np"
   ]
  },
  {
   "cell_type": "code",
   "execution_count": 24,
   "id": "a35ccccb",
   "metadata": {},
   "outputs": [],
   "source": [
    "#manually calculating the z score\n",
    "def z_score(x,mu,sigma):\n",
    "    return (x-mu)/sigma"
   ]
  },
  {
   "cell_type": "code",
   "execution_count": 7,
   "id": "908781ea",
   "metadata": {},
   "outputs": [
    {
     "data": {
      "text/html": [
       "<div>\n",
       "<style scoped>\n",
       "    .dataframe tbody tr th:only-of-type {\n",
       "        vertical-align: middle;\n",
       "    }\n",
       "\n",
       "    .dataframe tbody tr th {\n",
       "        vertical-align: top;\n",
       "    }\n",
       "\n",
       "    .dataframe thead th {\n",
       "        text-align: right;\n",
       "    }\n",
       "</style>\n",
       "<table border=\"1\" class=\"dataframe\">\n",
       "  <thead>\n",
       "    <tr style=\"text-align: right;\">\n",
       "      <th></th>\n",
       "      <th>Gender</th>\n",
       "      <th>Height</th>\n",
       "      <th>Weight</th>\n",
       "    </tr>\n",
       "  </thead>\n",
       "  <tbody>\n",
       "    <tr>\n",
       "      <th>0</th>\n",
       "      <td>Male</td>\n",
       "      <td>73.847017</td>\n",
       "      <td>241.893563</td>\n",
       "    </tr>\n",
       "    <tr>\n",
       "      <th>1</th>\n",
       "      <td>Male</td>\n",
       "      <td>68.781904</td>\n",
       "      <td>162.310473</td>\n",
       "    </tr>\n",
       "    <tr>\n",
       "      <th>2</th>\n",
       "      <td>Male</td>\n",
       "      <td>74.110105</td>\n",
       "      <td>212.740856</td>\n",
       "    </tr>\n",
       "    <tr>\n",
       "      <th>3</th>\n",
       "      <td>Male</td>\n",
       "      <td>71.730978</td>\n",
       "      <td>220.042470</td>\n",
       "    </tr>\n",
       "    <tr>\n",
       "      <th>4</th>\n",
       "      <td>Male</td>\n",
       "      <td>69.881796</td>\n",
       "      <td>206.349801</td>\n",
       "    </tr>\n",
       "  </tbody>\n",
       "</table>\n",
       "</div>"
      ],
      "text/plain": [
       "  Gender     Height      Weight\n",
       "0   Male  73.847017  241.893563\n",
       "1   Male  68.781904  162.310473\n",
       "2   Male  74.110105  212.740856\n",
       "3   Male  71.730978  220.042470\n",
       "4   Male  69.881796  206.349801"
      ]
     },
     "execution_count": 7,
     "metadata": {},
     "output_type": "execute_result"
    }
   ],
   "source": [
    "df=pd.read_csv(r\"C:\\Users\\Tnluser\\Desktop\\Python_Libraries\\weight-height.csv\")\n",
    "df.head()"
   ]
  },
  {
   "cell_type": "code",
   "execution_count": 9,
   "id": "550a8176",
   "metadata": {},
   "outputs": [
    {
     "data": {
      "text/plain": [
       "count    10000.000000\n",
       "mean        66.367560\n",
       "std          3.847528\n",
       "min         54.263133\n",
       "25%         63.505620\n",
       "50%         66.318070\n",
       "75%         69.174262\n",
       "max         78.998742\n",
       "Name: Height, dtype: float64"
      ]
     },
     "execution_count": 9,
     "metadata": {},
     "output_type": "execute_result"
    }
   ],
   "source": [
    "height=df.Height\n",
    "height.describe()"
   ]
  },
  {
   "cell_type": "code",
   "execution_count": 19,
   "id": "1f152ec7",
   "metadata": {},
   "outputs": [
    {
     "data": {
      "text/plain": [
       "<seaborn.axisgrid.FacetGrid at 0x193471c30d0>"
      ]
     },
     "execution_count": 19,
     "metadata": {},
     "output_type": "execute_result"
    },
    {
     "data": {
      "image/png": "[encoded data removed]",
      "text/plain": [
       "<Figure size 360x360 with 1 Axes>"
      ]
     },
     "metadata": {
      "needs_background": "light"
     },
     "output_type": "display_data"
    }
   ],
   "source": [
    "sns.displot(height,kde=True)"
   ]
  },
  {
   "cell_type": "code",
   "execution_count": 12,
   "id": "8a2fe7e5",
   "metadata": {},
   "outputs": [
    {
     "data": {
      "text/plain": [
       "(66.3675597548656, 3.847528120795573)"
      ]
     },
     "execution_count": 12,
     "metadata": {},
     "output_type": "execute_result"
    }
   ],
   "source": [
    "mu=height.mean()\n",
    "sigma=height.std()\n",
    "(mu,sigma)"
   ]
  },
  {
   "cell_type": "markdown",
   "id": "c8eece32",
   "metadata": {},
   "source": [
    "## Question: \n",
    "\n",
    "find percentage of population with height less than 69 inches. Here find the area in distribution curve/kernal density curve below 69 inches."
   ]
  },
  {
   "cell_type": "code",
   "execution_count": 25,
   "id": "75270aaa",
   "metadata": {},
   "outputs": [
    {
     "data": {
      "text/plain": [
       "0.6841899948453349"
      ]
     },
     "execution_count": 25,
     "metadata": {},
     "output_type": "execute_result"
    }
   ],
   "source": [
    "#using cdf (cummulative density function where argument is z score)\n",
    "z_score=z_score(69,mu,sigma)\n",
    "z_score"
   ]
  },
  {
   "cell_type": "code",
   "execution_count": 26,
   "id": "ea010c9b",
   "metadata": {},
   "outputs": [
    {
     "data": {
      "text/plain": [
       "0.945200708300442"
      ]
     },
     "execution_count": 26,
     "metadata": {},
     "output_type": "execute_result"
    }
   ],
   "source": [
    "norm.cdf(1.6)\n",
    "#94 percent of population has below 69 inches of height."
   ]
  },
  {
   "cell_type": "markdown",
   "id": "8b1318c6",
   "metadata": {},
   "source": [
    "## Question\n",
    "find the height below such that 94.5% of population has height less than this height"
   ]
  },
  {
   "cell_type": "code",
   "execution_count": 41,
   "id": "72b42b84",
   "metadata": {},
   "outputs": [
    {
     "data": {
      "text/plain": [
       "1.5981931399228175"
      ]
     },
     "execution_count": 41,
     "metadata": {},
     "output_type": "execute_result"
    }
   ],
   "source": [
    "#ppf function takes input as fraction of the curve or area under the normal distribution curve\n",
    "#percentage point function\n",
    "# and the output is z score which can be used to find the x value\n",
    "z_score_out=norm.ppf(.945)\n",
    "z_score_out\n",
    "# output is 96"
   ]
  },
  {
   "cell_type": "code",
   "execution_count": 39,
   "id": "14fee160",
   "metadata": {},
   "outputs": [
    {
     "data": {
      "text/plain": [
       "72.51665280318122"
      ]
     },
     "execution_count": 39,
     "metadata": {},
     "output_type": "execute_result"
    }
   ],
   "source": [
    "x=z_score_out*sigma+mu\n",
    "x"
   ]
  },
  {
   "cell_type": "code",
   "execution_count": 40,
   "id": "b06f0551",
   "metadata": {},
   "outputs": [
    {
     "data": {
      "text/plain": [
       "1.2815515655446004"
      ]
     },
     "execution_count": 40,
     "metadata": {},
     "output_type": "execute_result"
    }
   ],
   "source": [
    "norm.ppf(0.90)"
   ]
  },
  {
   "cell_type": "code",
   "execution_count": 42,
   "id": "e66e4d6c",
   "metadata": {},
   "outputs": [
    {
     "data": {
      "text/plain": [
       "0.6914624612740131"
      ]
     },
     "execution_count": 42,
     "metadata": {},
     "output_type": "execute_result"
    }
   ],
   "source": [
    "norm.cdf(0.5)"
   ]
  },
  {
   "cell_type": "code",
   "execution_count": 43,
   "id": "4cafc4c9",
   "metadata": {},
   "outputs": [
    {
     "data": {
      "text/plain": [
       "0.10564977366685535"
      ]
     },
     "execution_count": 43,
     "metadata": {},
     "output_type": "execute_result"
    }
   ],
   "source": [
    "norm.cdf((-5)/4)"
   ]
  },
  {
   "cell_type": "code",
   "execution_count": 46,
   "id": "2976e1ea",
   "metadata": {},
   "outputs": [
    {
     "data": {
      "text/plain": [
       "-2.3263478740408408"
      ]
     },
     "execution_count": 46,
     "metadata": {},
     "output_type": "execute_result"
    }
   ],
   "source": [
    "norm.ppf(.01)"
   ]
  },
  {
   "cell_type": "code",
   "execution_count": 47,
   "id": "85a63020",
   "metadata": {},
   "outputs": [
    {
     "data": {
      "text/plain": [
       "0.9331927987311419"
      ]
     },
     "execution_count": 47,
     "metadata": {},
     "output_type": "execute_result"
    }
   ],
   "source": [
    "norm.cdf(1.5)"
   ]
  },
  {
   "cell_type": "code",
   "execution_count": 48,
   "id": "b714d8a2",
   "metadata": {},
   "outputs": [
    {
     "data": {
      "text/plain": [
       "0.6179114221889526"
      ]
     },
     "execution_count": 48,
     "metadata": {},
     "output_type": "execute_result"
    }
   ],
   "source": [
    "norm.cdf(0.3)"
   ]
  },
  {
   "cell_type": "code",
   "execution_count": null,
   "id": "b235bd63",
   "metadata": {},
   "outputs": [],
   "source": []
  }
 ],
 "metadata": {
  "kernelspec": {
   "display_name": "Python 3 (ipykernel)",
   "language": "python",
   "name": "python3"
  },
  "language_info": {
   "codemirror_mode": {
    "name": "ipython",
    "version": 3
   },
   "file_extension": ".py",
   "mimetype": "text/x-python",
   "name": "python",
   "nbconvert_exporter": "python",
   "pygments_lexer": "ipython3",
   "version": "3.9.12"
  }
 },
 "nbformat": 4,
 "nbformat_minor": 5
}
